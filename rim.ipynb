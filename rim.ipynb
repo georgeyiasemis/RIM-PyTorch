{
  "nbformat": 4,
  "nbformat_minor": 0,
  "metadata": {
    "kernelspec": {
      "display_name": "Python [default]",
      "language": "python",
      "name": "python3"
    },
    "language_info": {
      "codemirror_mode": {
        "name": "ipython",
        "version": 3
      },
      "file_extension": ".py",
      "mimetype": "text/x-python",
      "name": "python",
      "nbconvert_exporter": "python",
      "pygments_lexer": "ipython3",
      "version": "3.6.3"
    },
    "colab": {
      "name": "rim.ipynb",
      "provenance": [],
      "collapsed_sections": []
    },
    "accelerator": "GPU"
  },
  "cells": [
    {
      "cell_type": "markdown",
      "metadata": {
        "id": "PiNXCa50wGoP"
      },
      "source": [
        "# Recurrent Inference Machines (RIM) for Denoising MNIST (handwritten digits)\n",
        "Follows implementation of RIM of paper \"Recurrent Inference Machines for Solving Inverse Problems\" (https://arxiv.org/pdf/1706.04008.pdf)."
      ]
    },
    {
      "cell_type": "code",
      "metadata": {
        "collapsed": true,
        "id": "kZU82te1wGoW",
        "colab": {
          "base_uri": "https://localhost:8080/"
        },
        "outputId": "166e88dd-9a74-45f0-bbde-205c0a71a5a0"
      },
      "source": [
        "import numpy as np\n",
        "import matplotlib.pyplot as plt\n",
        "\n",
        "import torch\n",
        "import torch.nn as nn\n",
        "from torch.autograd import Variable\n",
        "from torch.utils.data import DataLoader\n",
        "import torchvision.transforms as transforms\n",
        "import torchvision.datasets as dsets\n",
        "import torch.utils.data as Data\n",
        "from skimage.util import random_noise\n",
        "from scipy.ndimage import gaussian_filter\n",
        "\n",
        "device = 'cuda:0' if torch.cuda.is_available() else 'cpu'\n",
        "print(device)"
      ],
      "execution_count": 1,
      "outputs": [
        {
          "output_type": "stream",
          "text": [
            "cuda:0\n"
          ],
          "name": "stdout"
        }
      ]
    },
    {
      "cell_type": "markdown",
      "metadata": {
        "id": "hI901uFLBaxC"
      },
      "source": [
        "## Load MNIST and create datasets & dataloaders"
      ]
    },
    {
      "cell_type": "code",
      "metadata": {
        "id": "j6EMLLN3BsBZ"
      },
      "source": [
        "# Use download=True if not already downloaded\n",
        "transform = transforms.Compose([transforms.ToTensor()])\n",
        "\n",
        "train_dat = dsets.MNIST(\"data/\", train=True, download=False, transform=transform)\n",
        "test_dat = dsets.MNIST(\"data/\", train=False, download=False, transform=transform)"
      ],
      "execution_count": null,
      "outputs": []
    },
    {
      "cell_type": "markdown",
      "metadata": {
        "id": "IDU27l86BvW7"
      },
      "source": [
        "Our target is to de-noise $y_i = x_i + n_i$, where $n_i \\sim \\mathcal{N}(0,\\sigma^2)$ and $\\sigma^2 = 0.10$."
      ]
    },
    {
      "cell_type": "code",
      "metadata": {
        "id": "yaPjv1Kb3F2g"
      },
      "source": [
        "X_train, X_train_labels = train_dat.data[:-10000], train_dat.targets[:-10000]\n",
        "X_val, X_val_labels = test_dat.data[-10000:], train_dat.targets[-10000:]\n",
        "X_test, X_test_labels = test_dat.data, test_dat.targets\n",
        "\n",
        "# Y_train = torch.tensor(np.array([gaussian_filter(X_train[i], 1.5) for i in range(X_train.shape[0])]))\n",
        "# Y_val = torch.tensor(np.array([gaussian_filter(X_val[i], 1.5) for i in range(X_val.shape[0])]))\n",
        "# Y_test = torch.tensor(np.array([gaussian_filter(X_test[i], 1.5) for i in range(X_test.shape[0])]))\n",
        "\n",
        "Y_train = torch.tensor(random_noise(X_train, mode='gaussian', mean=0, var=0.1, clip=True))\n",
        "Y_val = torch.tensor(random_noise(X_val, mode='gaussian', mean=0, var=0.1, clip=True))\n",
        "Y_test = torch.tensor(random_noise(X_test, mode='gaussian', mean=0, var=0.1, clip=True))"
      ],
      "execution_count": 6,
      "outputs": []
    },
    {
      "cell_type": "markdown",
      "metadata": {
        "id": "FW1kBXCgCdmI"
      },
      "source": [
        "Example of target image $x_i$ and noisy measurerument $y_i$."
      ]
    },
    {
      "cell_type": "code",
      "metadata": {
        "colab": {
          "base_uri": "https://localhost:8080/",
          "height": 233
        },
        "id": "92nvgsn9-9B3",
        "outputId": "ee08a131-87c2-44ba-b05c-67ebc64b163a"
      },
      "source": [
        "plt.subplot(1,2,1)\n",
        "plt.imshow(X_test[2])\n",
        "plt.title('$x_i$')\n",
        "plt.subplot(1,2,2)\n",
        "plt.imshow(Y_test[2])\n",
        "plt.title('$y_i=x_i+n_i$')"
      ],
      "execution_count": 7,
      "outputs": [
        {
          "output_type": "execute_result",
          "data": {
            "text/plain": [
              "Text(0.5, 1.0, '$y_i=x_i+n_i$')"
            ]
          },
          "metadata": {
            "tags": []
          },
          "execution_count": 7
        },
        {
          "output_type": "display_data",
          "data": {
            "image/png": "[encoded data removed]",
            "text/plain": [
              "<Figure size 432x288 with 2 Axes>"
            ]
          },
          "metadata": {
            "tags": [],
            "needs_background": "light"
          }
        }
      ]
    },
    {
      "cell_type": "markdown",
      "metadata": {
        "id": "IuZfkRngDjIh"
      },
      "source": [
        "Define batch size reate Dataloaders"
      ]
    },
    {
      "cell_type": "code",
      "metadata": {
        "id": "LLBjjuQP4Mqh"
      },
      "source": [
        "batch_size = 128\n",
        "\n",
        "train_dataset = Data.TensorDataset(X_train, Y_train)\n",
        "val_dataset = Data.TensorDataset(X_val, Y_val)\n",
        "test_dataset = Data.TensorDataset(X_test, Y_test)\n",
        "\n",
        "\n",
        "train_loader = DataLoader(dataset=train_dataset,\n",
        "                          batch_size=batch_size,\n",
        "                          shuffle=True)\n",
        "val_loader = DataLoader(dataset=val_dataset,\n",
        "                          batch_size=batch_size,\n",
        "                          shuffle=True)\n",
        "test_loader = DataLoader(dataset=test_dataset,\n",
        "                          batch_size=batch_size,\n",
        "                          shuffle=True)"
      ],
      "execution_count": 8,
      "outputs": []
    },
    {
      "cell_type": "markdown",
      "metadata": {
        "id": "NzyJ_PmbwGoZ"
      },
      "source": [
        "## Define a function that will give the gradient $\\nabla_{y|x}$"
      ]
    },
    {
      "cell_type": "code",
      "metadata": {
        "id": "M8OepwdWGokB"
      },
      "source": [
        "def gradient(X, Y):\n",
        "    \n",
        "    return X - Y"
      ],
      "execution_count": 9,
      "outputs": []
    },
    {
      "cell_type": "markdown",
      "metadata": {
        "id": "rf0GuPGFo4ol"
      },
      "source": [
        "## Define Conv2dRNNCell, RNN and RIM Modules: "
      ]
    },
    {
      "cell_type": "code",
      "metadata": {
        "id": "q2wRRD4OUPe9"
      },
      "source": [
        "class Conv2dRNNCell(nn.Module):\n",
        "    def __init__(self, input_size, hidden_size, kernel_size, bias=True, nonlinearity=\"tanh\"):\n",
        "        super(Conv2dRNNCell, self).__init__()\n",
        "\n",
        "        self.input_size = input_size\n",
        "        self.hidden_size = hidden_size\n",
        "\n",
        "        if type(kernel_size) == tuple and len(kernel_size) == 2:\n",
        "            self.kernel_size = kernel_size\n",
        "            self.padding = (kernel_size[0] // 2, kernel_size[1] // 2)\n",
        "        elif type(kernel_size) == int:\n",
        "            self.kernel_size = (kernel_size, kernel_size)\n",
        "            self.padding = (kernel_size // 2, kernel_size // 2)\n",
        "        else:\n",
        "            raise ValueError(\"Invalid kernel size.\")\n",
        "\n",
        "        self.bias = bias\n",
        "        self.nonlinearity = nonlinearity\n",
        "\n",
        "        if self.nonlinearity not in [\"tanh\", \"relu\"]:\n",
        "            raise ValueError(\"Invalid nonlinearity selected for RNN.\")\n",
        "\n",
        "        self.x2h = nn.Conv2d(in_channels=input_size,\n",
        "                             out_channels=hidden_size,\n",
        "                             kernel_size=self.kernel_size,\n",
        "                             padding=self.padding,\n",
        "                             bias=bias)\n",
        "\n",
        "        self.h2h = nn.Conv2d(in_channels=hidden_size,\n",
        "                             out_channels=hidden_size,\n",
        "                             kernel_size=self.kernel_size,\n",
        "                             padding=self.padding,\n",
        "                             bias=bias)\n",
        "        self.reset_parameters()\n",
        "\n",
        "\n",
        "    def reset_parameters(self):\n",
        "        std = 1.0 / np.sqrt(self.hidden_size)\n",
        "        for w in self.parameters():\n",
        "            w.data.uniform_(-std, std)\n",
        "\n",
        "\n",
        "    def forward(self, input, hx=None):\n",
        "\n",
        "        # Inputs:\n",
        "        #       input: of shape (batch_size, input_size, height_size, width_size)\n",
        "        #       hx: of shape (batch_size, hidden_size, height_size, width_size)\n",
        "        # Outputs:\n",
        "        #       hy: of shape (batch_size, hidden_size, height_size, width_size)\n",
        "\n",
        "        if hx is None:\n",
        "            hx = Variable(input.new_zeros(input.size(0), self.hidden_size, input.size(2), input.size(3)))\n",
        "        # print(input.shape)\n",
        "        hy = (self.x2h(input) + self.h2h(hx))\n",
        "\n",
        "        if self.nonlinearity == \"tanh\":\n",
        "            hy = torch.tanh(hy)\n",
        "        else:\n",
        "            hy = torch.relu(hy)\n",
        "\n",
        "        return hy\n",
        "\n",
        "class RNN(nn.Module):\n",
        "    def __init__(self, input_size, hidden_size, kernel_sizes, output_size, activation='relu'):\n",
        "        super(RNN, self).__init__()\n",
        "\n",
        "        self.input_size = input_size\n",
        "        self.hidden_size = hidden_size\n",
        "        self.activation = activation\n",
        "\n",
        "        self.rnncell1 = Conv2dRNNCell(input_size=input_size, hidden_size=hidden_size, kernel_size=kernel_sizes[0], nonlinearity=activation)\n",
        "        self.rnncell2 = Conv2dRNNCell(input_size=hidden_size, hidden_size=hidden_size, kernel_size=kernel_sizes[1], nonlinearity=activation)\n",
        "        self.conv = nn.Conv2d(in_channels=hidden_size*2, out_channels=output_size, kernel_size=kernel_sizes[2], padding=kernel_sizes[2]//2)\n",
        "\n",
        "        # nn.init.xavier_normal_(self.fc.weight, 0.1)\n",
        "\n",
        "    def forward(self, xt, st=None):\n",
        "\n",
        "        if st is None:\n",
        "            st = [Variable(xt.new_zeros(xt.size(0), self.hidden_size, xt.size(2), xt.size(3))),\n",
        "                  Variable(xt.new_zeros(xt.size(0), self.hidden_size, xt.size(2), xt.size(3)))]\n",
        "\n",
        "        st_1 = self.rnncell1(xt, st[0])\n",
        "        st_2 = self.rnncell2(st_1, st[1])\n",
        "        dxt = self.conv(torch.cat((st_1, st[1]), 1))\n",
        "\n",
        "        st = [st_1, st_2]\n",
        "\n",
        "        return dxt, st\n",
        "\n",
        "\n",
        "class RIM(nn.Module):\n",
        "    def __init__(self, input_size, hidden_size, kernel_sizes, output_size, sequence_size,\n",
        "                 gradient_fun, activation='relu'):\n",
        "        super(RIM, self).__init__()\n",
        "\n",
        "        self.input_size = input_size  \n",
        "        self.hidden_size = hidden_size\n",
        "        self.kernel_sizes = kernel_sizes\n",
        "        self.output_size = output_size\n",
        "        self.sequence_size = sequence_size\n",
        "        self.gradient_fun = gradient_fun\n",
        "\n",
        "        # input is ([x, grad_{y|x}])\n",
        "        self.rnn = RNN(input_size=input_size*2, hidden_size=hidden_size, kernel_sizes=kernel_sizes, output_size=output_size, activation=activation)\n",
        "\n",
        "    def forward(self, x, y):\n",
        "\n",
        "        # x is only used for shape matching\n",
        "        x0 = torch.zeros(x.shape)\n",
        "        xt = x0.clone().to(device)\n",
        "\n",
        "        grad_xt = self.gradient_fun(xt, y).clone().to(device)\n",
        "\n",
        "        input_t = Variable(torch.cat((xt, grad_xt), 1)).to(device)\n",
        "        st = None\n",
        "        X = torch.zeros((self.sequence_size+1, x0.size(0), self.input_size, x0.size(2), x0.size(3)))\n",
        "        X[0] = y.clone()\n",
        "        for t in range(self.sequence_size):\n",
        "\n",
        "            dxt, st = self.rnn(input_t, st)\n",
        "\n",
        "            xt = xt + dxt\n",
        "\n",
        "            grad_xt = self.gradient_fun(xt, y).clone()\n",
        "            input_t = Variable(torch.cat((xt, grad_xt), 1))\n",
        "\n",
        "            X[t+1] = xt.clone()\n",
        "            \n",
        "        return X.to(device)\n"
      ],
      "execution_count": 10,
      "outputs": []
    },
    {
      "cell_type": "markdown",
      "metadata": {
        "id": "dB5hw4IcwGoe"
      },
      "source": [
        "## RIM - training"
      ]
    },
    {
      "cell_type": "code",
      "metadata": {
        "colab": {
          "base_uri": "https://localhost:8080/"
        },
        "id": "xlAWR1q95JH9",
        "outputId": "f498c8da-4331-4f47-e843-5bd51047614c"
      },
      "source": [
        "sequence_len = 10\n",
        "rim = RIM(1, 32, (5,3,3), 1, sequence_len, gradient)\n",
        "rim.to(device)\n",
        "\n",
        "criterion = nn.MSELoss()\n",
        "learning_rate = 0.0002\n",
        "optimizer = torch.optim.Adam(rim.parameters(), lr=learning_rate)\n",
        "\n",
        "epochs = 200\n",
        "losses = []\n",
        "val_losses = []\n",
        "\n",
        "iter = 0\n",
        "################################################################################\n",
        "#---------------------------------TRAINING-------------------------------------#\n",
        "################################################################################\n",
        "for epoch in range(epochs):\n",
        "\n",
        "    train_loss = 0.0\n",
        "    for i, (X, y) in enumerate(train_loader):\n",
        "\n",
        "        X = Variable(X).to(device).unsqueeze(1).float()\n",
        "        y = Variable(y).to(device).unsqueeze(1).float()\n",
        "        \n",
        "        optimizer.zero_grad()\n",
        "\n",
        "        outputs = rim(X, y)\n",
        "        loss = 0.0\n",
        "\n",
        "        # Target tensor is X\n",
        "        for t in range(sequence_len):\n",
        "            loss += criterion(outputs[t], X) / sequence_len\n",
        "\n",
        "        loss.to(device)\n",
        "\n",
        "        train_loss += loss.item()\n",
        "        \n",
        "        iter += 1\n",
        "\n",
        "        # get gradients w.r.t to parameters\n",
        "        loss.backward()\n",
        "        \n",
        "        # update parameters\n",
        "        optimizer.step()\n",
        "\n",
        "    ############################################################################\n",
        "    #------------------------------VALIDATION----------------------------------#\n",
        "    ############################################################################\n",
        "\n",
        "    rim.eval()\n",
        "    valid_loss = 0.0\n",
        "\n",
        "    for i, (X, y) in enumerate(test_loader):\n",
        "\n",
        "        X = Variable(X).to(device).unsqueeze(1).float()\n",
        "        y = Variable(y).to(device).unsqueeze(1).float()\n",
        "\n",
        "        outputs = rim(X, y)\n",
        "        loss = 0.0\n",
        "\n",
        "        for t in range(sequence_len):\n",
        "\n",
        "            loss += criterion(outputs[t], X) / sequence_len\n",
        "        \n",
        "        valid_loss += loss.to(device).item()  \n",
        "    \n",
        "\n",
        "    val_losses.append(valid_loss / len(test_loader.dataset))\n",
        "\n",
        "    rim.train()\n",
        "    losses.append(train_loss / len(train_loader.dataset))\n",
        "\n",
        "    print(\"Epoch: {}. Train Loss: {}. Validation. Loss: {}.\".format(epoch, losses[epoch], val_losses[epoch]))  \n",
        "\n",
        "# torch.save(rim.state_dict(), './rim.pt')"
      ],
      "execution_count": 125,
      "outputs": [
        {
          "output_type": "stream",
          "text": [
            "Epoch: 0. Train Loss: 27.3684102734375. Validation. Loss: 20.74411357421875.\n",
            "Epoch: 1. Train Loss: 18.56487140625. Validation. Loss: 17.560221435546875.\n",
            "Epoch: 2. Train Loss: 16.59520004638672. Validation. Loss: 16.34070157470703.\n",
            "Epoch: 3. Train Loss: 15.627277607421876. Validation. Loss: 15.535885766601563.\n",
            "Epoch: 4. Train Loss: 14.888795913085938. Validation. Loss: 14.802363012695313.\n",
            "Epoch: 5. Train Loss: 14.296494638671875. Validation. Loss: 14.28794384765625.\n",
            "Epoch: 6. Train Loss: 13.8252791796875. Validation. Loss: 13.834017724609375.\n",
            "Epoch: 7. Train Loss: 13.425241091308594. Validation. Loss: 13.473052197265625.\n",
            "Epoch: 8. Train Loss: 13.057071037597657. Validation. Loss: 13.10791708984375.\n",
            "Epoch: 9. Train Loss: 12.722387185058594. Validation. Loss: 12.767900952148437.\n",
            "Epoch: 10. Train Loss: 12.424164438476563. Validation. Loss: 12.489042272949218.\n",
            "Epoch: 11. Train Loss: 12.161047888183594. Validation. Loss: 12.232652905273438.\n",
            "Epoch: 12. Train Loss: 11.936811137695312. Validation. Loss: 12.016924206542969.\n",
            "Epoch: 13. Train Loss: 11.728862814941406. Validation. Loss: 11.813115637207032.\n",
            "Epoch: 14. Train Loss: 11.548658674316407. Validation. Loss: 11.64634803466797.\n",
            "Epoch: 15. Train Loss: 11.384996252441406. Validation. Loss: 11.487682067871093.\n",
            "Epoch: 16. Train Loss: 12.23872867919922. Validation. Loss: 12.000627014160155.\n",
            "Epoch: 17. Train Loss: 11.59110890625. Validation. Loss: 11.587310925292968.\n",
            "Epoch: 18. Train Loss: 11.292717307128907. Validation. Loss: 11.374174560546875.\n",
            "Epoch: 19. Train Loss: 11.116515224609374. Validation. Loss: 11.215984436035157.\n",
            "Epoch: 20. Train Loss: 10.971998203125. Validation. Loss: 11.070862084960938.\n",
            "Epoch: 21. Train Loss: 10.839428737792968. Validation. Loss: 10.929748962402345.\n",
            "Epoch: 22. Train Loss: 10.704602211914063. Validation. Loss: 10.81394190673828.\n",
            "Epoch: 23. Train Loss: 10.574873759765625. Validation. Loss: 10.673450756835937.\n",
            "Epoch: 24. Train Loss: 10.452338161621094. Validation. Loss: 10.549101525878907.\n",
            "Epoch: 25. Train Loss: 10.3293688671875. Validation. Loss: 10.44157001953125.\n",
            "Epoch: 26. Train Loss: 10.216679814453125. Validation. Loss: 10.308958862304687.\n",
            "Epoch: 27. Train Loss: 10.108683435058595. Validation. Loss: 10.2292578125.\n",
            "Epoch: 28. Train Loss: 10.010025444335938. Validation. Loss: 10.235378662109374.\n",
            "Epoch: 29. Train Loss: 9.915299453125. Validation. Loss: 10.01835421142578.\n",
            "Epoch: 30. Train Loss: 9.82803856689453. Validation. Loss: 9.948613232421875.\n",
            "Epoch: 31. Train Loss: 9.749619294433593. Validation. Loss: 9.861633740234375.\n",
            "Epoch: 32. Train Loss: 9.67204560546875. Validation. Loss: 9.819972680664062.\n",
            "Epoch: 33. Train Loss: 9.609259240722656. Validation. Loss: 9.736170104980468.\n",
            "Epoch: 34. Train Loss: 9.53781486328125. Validation. Loss: 9.65388712158203.\n",
            "Epoch: 35. Train Loss: 9.478167170410156. Validation. Loss: 9.606577001953125.\n",
            "Epoch: 36. Train Loss: 9.428687919921876. Validation. Loss: 9.559332055664063.\n",
            "Epoch: 37. Train Loss: 9.36884919921875. Validation. Loss: 9.518244921875.\n",
            "Epoch: 38. Train Loss: 9.31974759765625. Validation. Loss: 9.4293193359375.\n",
            "Epoch: 39. Train Loss: 9.274649423828125. Validation. Loss: 9.397826354980468.\n",
            "Epoch: 40. Train Loss: 9.23238496826172. Validation. Loss: 9.359709729003907.\n",
            "Epoch: 41. Train Loss: 9.191988452148438. Validation. Loss: 9.350532690429688.\n",
            "Epoch: 42. Train Loss: 9.156348825683594. Validation. Loss: 9.299315393066406.\n",
            "Epoch: 43. Train Loss: 9.121393041992187. Validation. Loss: 9.251395874023437.\n",
            "Epoch: 44. Train Loss: 9.087445439453125. Validation. Loss: 9.226006091308594.\n",
            "Epoch: 45. Train Loss: 9.063782541503906. Validation. Loss: 9.305154992675782.\n",
            "Epoch: 46. Train Loss: 9.03074792236328. Validation. Loss: 9.188776098632813.\n",
            "Epoch: 47. Train Loss: 9.002921596679688. Validation. Loss: 9.136355224609375.\n",
            "Epoch: 48. Train Loss: 8.977625659179688. Validation. Loss: 9.123022277832032.\n",
            "Epoch: 49. Train Loss: 8.953736999511719. Validation. Loss: 9.074632934570312.\n",
            "Epoch: 50. Train Loss: 8.930988544921876. Validation. Loss: 9.064456335449218.\n",
            "Epoch: 51. Train Loss: 8.910323264160157. Validation. Loss: 9.04079024658203.\n",
            "Epoch: 52. Train Loss: 8.886232319335937. Validation. Loss: 9.030903930664062.\n",
            "Epoch: 53. Train Loss: 8.868776323242187. Validation. Loss: 9.016061804199218.\n",
            "Epoch: 54. Train Loss: 8.847207233886719. Validation. Loss: 9.011209436035156.\n",
            "Epoch: 55. Train Loss: 8.832084653320312. Validation. Loss: 8.952763537597656.\n",
            "Epoch: 56. Train Loss: 8.813973745117188. Validation. Loss: 8.941739807128906.\n",
            "Epoch: 57. Train Loss: 8.794722814941407. Validation. Loss: 8.928067822265625.\n",
            "Epoch: 58. Train Loss: 8.77979517578125. Validation. Loss: 8.89860341796875.\n",
            "Epoch: 59. Train Loss: 8.762910810546876. Validation. Loss: 8.894870349121094.\n",
            "Epoch: 60. Train Loss: 8.74767380859375. Validation. Loss: 8.88762491455078.\n",
            "Epoch: 61. Train Loss: 8.737331643066407. Validation. Loss: 8.884434436035157.\n",
            "Epoch: 62. Train Loss: 8.721434167480469. Validation. Loss: 8.860663745117188.\n",
            "Epoch: 63. Train Loss: 8.706500725097657. Validation. Loss: 8.844693811035157.\n",
            "Epoch: 64. Train Loss: 8.69493069091797. Validation. Loss: 8.8276119140625.\n",
            "Epoch: 65. Train Loss: 8.68164066040039. Validation. Loss: 8.831202416992188.\n",
            "Epoch: 66. Train Loss: 8.672096215820313. Validation. Loss: 8.821867370605469.\n",
            "Epoch: 67. Train Loss: 8.658299267578125. Validation. Loss: 8.798518640136718.\n",
            "Epoch: 68. Train Loss: 8.647778902587891. Validation. Loss: 8.772365002441406.\n",
            "Epoch: 69. Train Loss: 8.633914859619141. Validation. Loss: 8.773180834960938.\n",
            "Epoch: 70. Train Loss: 8.624591489257812. Validation. Loss: 8.779134216308593.\n",
            "Epoch: 71. Train Loss: 8.614725140380859. Validation. Loss: 8.738021685791015.\n",
            "Epoch: 72. Train Loss: 8.606489450683593. Validation. Loss: 8.743998889160157.\n",
            "Epoch: 73. Train Loss: 8.592380710449218. Validation. Loss: 8.7290771484375.\n",
            "Epoch: 74. Train Loss: 8.585049334716796. Validation. Loss: 8.721097302246093.\n",
            "Epoch: 75. Train Loss: 8.574811418457031. Validation. Loss: 8.734473205566406.\n",
            "Epoch: 76. Train Loss: 8.564011954345704. Validation. Loss: 8.7133267578125.\n",
            "Epoch: 77. Train Loss: 8.556670327148437. Validation. Loss: 8.709595251464844.\n",
            "Epoch: 78. Train Loss: 8.546225809326172. Validation. Loss: 8.705443566894532.\n",
            "Epoch: 79. Train Loss: 8.537421075439454. Validation. Loss: 8.682519207763672.\n",
            "Epoch: 80. Train Loss: 8.529256920166016. Validation. Loss: 8.678890454101563.\n",
            "Epoch: 81. Train Loss: 8.520369188232422. Validation. Loss: 8.670911499023438.\n",
            "Epoch: 82. Train Loss: 8.513033751220703. Validation. Loss: 8.66254501953125.\n",
            "Epoch: 83. Train Loss: 8.503992758789062. Validation. Loss: 8.68617119140625.\n",
            "Epoch: 84. Train Loss: 8.500210390625. Validation. Loss: 8.633293310546875.\n",
            "Epoch: 85. Train Loss: 8.491877061767578. Validation. Loss: 8.628479663085937.\n",
            "Epoch: 86. Train Loss: 8.484098139648438. Validation. Loss: 8.624364453125.\n",
            "Epoch: 87. Train Loss: 8.475960638427734. Validation. Loss: 8.631798608398437.\n",
            "Epoch: 88. Train Loss: 8.473056470947265. Validation. Loss: 8.605544696044921.\n",
            "Epoch: 89. Train Loss: 8.463749774169921. Validation. Loss: 8.637231323242187.\n",
            "Epoch: 90. Train Loss: 8.4566387890625. Validation. Loss: 8.597850048828125.\n",
            "Epoch: 91. Train Loss: 8.452038934326172. Validation. Loss: 8.590722637939454.\n",
            "Epoch: 92. Train Loss: 8.446071311035157. Validation. Loss: 8.596502026367187.\n",
            "Epoch: 93. Train Loss: 8.43964893798828. Validation. Loss: 8.566555993652344.\n",
            "Epoch: 94. Train Loss: 8.434200561523438. Validation. Loss: 8.573837268066406.\n",
            "Epoch: 95. Train Loss: 8.426327540283204. Validation. Loss: 8.58657578125.\n",
            "Epoch: 96. Train Loss: 8.422398167724609. Validation. Loss: 8.580473785400391.\n",
            "Epoch: 97. Train Loss: 8.41811134765625. Validation. Loss: 8.545753234863282.\n",
            "Epoch: 98. Train Loss: 8.41271400024414. Validation. Loss: 8.549559381103515.\n",
            "Epoch: 99. Train Loss: 8.407444342041016. Validation. Loss: 8.56698966064453.\n",
            "Epoch: 100. Train Loss: 8.40221280517578. Validation. Loss: 8.546491729736328.\n",
            "Epoch: 101. Train Loss: 8.397828228759765. Validation. Loss: 8.534030419921875.\n",
            "Epoch: 102. Train Loss: 8.393125080566406. Validation. Loss: 8.547929956054688.\n",
            "Epoch: 103. Train Loss: 8.388115231933593. Validation. Loss: 8.531641809082032.\n",
            "Epoch: 104. Train Loss: 8.383374064941407. Validation. Loss: 8.529929266357422.\n",
            "Epoch: 105. Train Loss: 8.38145126953125. Validation. Loss: 8.527014929199218.\n",
            "Epoch: 106. Train Loss: 8.372683127441407. Validation. Loss: 8.520375708007812.\n",
            "Epoch: 107. Train Loss: 8.371314562988282. Validation. Loss: 8.503837884521484.\n",
            "Epoch: 108. Train Loss: 8.368100095214844. Validation. Loss: 8.526560803222656.\n",
            "Epoch: 109. Train Loss: 8.362528177490235. Validation. Loss: 8.522382104492188.\n",
            "Epoch: 110. Train Loss: 8.36010940185547. Validation. Loss: 8.502182318115235.\n",
            "Epoch: 111. Train Loss: 8.354849191894532. Validation. Loss: 8.505603338623047.\n",
            "Epoch: 112. Train Loss: 8.349560694580077. Validation. Loss: 8.498107415771484.\n",
            "Epoch: 113. Train Loss: 8.345180040283203. Validation. Loss: 8.498746911621094.\n",
            "Epoch: 114. Train Loss: 8.343288916015625. Validation. Loss: 8.491256903076172.\n",
            "Epoch: 115. Train Loss: 8.339724135742188. Validation. Loss: 8.5277140625.\n",
            "Epoch: 116. Train Loss: 8.338052950439453. Validation. Loss: 8.47982924194336.\n",
            "Epoch: 117. Train Loss: 8.331712592773437. Validation. Loss: 8.49509110107422.\n",
            "Epoch: 118. Train Loss: 8.328043306884766. Validation. Loss: 8.491321655273438.\n",
            "Epoch: 119. Train Loss: 8.327640167236328. Validation. Loss: 8.467655212402343.\n",
            "Epoch: 120. Train Loss: 8.320359851074219. Validation. Loss: 8.498531396484376.\n",
            "Epoch: 121. Train Loss: 8.318402019042969. Validation. Loss: 8.468375457763672.\n",
            "Epoch: 122. Train Loss: 8.315165855712891. Validation. Loss: 8.462330944824219.\n",
            "Epoch: 123. Train Loss: 8.312355255126953. Validation. Loss: 8.467890576171875.\n",
            "Epoch: 124. Train Loss: 8.310568530273438. Validation. Loss: 8.456047723388671.\n",
            "Epoch: 125. Train Loss: 8.31040880493164. Validation. Loss: 8.445887561035157.\n",
            "Epoch: 126. Train Loss: 8.30216054321289. Validation. Loss: 8.46131099243164.\n",
            "Epoch: 127. Train Loss: 8.297962969970703. Validation. Loss: 8.448150073242187.\n",
            "Epoch: 128. Train Loss: 8.29615814453125. Validation. Loss: 8.431807733154297.\n",
            "Epoch: 129. Train Loss: 8.293442561035157. Validation. Loss: 8.434720452880859.\n",
            "Epoch: 130. Train Loss: 8.291560404052735. Validation. Loss: 8.438390399169922.\n",
            "Epoch: 131. Train Loss: 8.288546112060548. Validation. Loss: 8.430785327148438.\n",
            "Epoch: 132. Train Loss: 8.285887182617188. Validation. Loss: 8.423737658691406.\n",
            "Epoch: 133. Train Loss: 8.28258913696289. Validation. Loss: 8.430382983398438.\n",
            "Epoch: 134. Train Loss: 8.280614289550781. Validation. Loss: 8.44261279296875.\n",
            "Epoch: 135. Train Loss: 8.278415963134766. Validation. Loss: 8.427911987304688.\n",
            "Epoch: 136. Train Loss: 8.273021613769531. Validation. Loss: 8.428956951904297.\n",
            "Epoch: 137. Train Loss: 8.27164747680664. Validation. Loss: 8.429648352050782.\n",
            "Epoch: 138. Train Loss: 8.272872252197265. Validation. Loss: 8.420523962402344.\n",
            "Epoch: 139. Train Loss: 8.266649578857422. Validation. Loss: 8.424891107177734.\n",
            "Epoch: 140. Train Loss: 8.26428416381836. Validation. Loss: 8.414558648681641.\n",
            "Epoch: 141. Train Loss: 8.261654934082031. Validation. Loss: 8.405800366210938.\n",
            "Epoch: 142. Train Loss: 8.259468865966797. Validation. Loss: 8.427399298095704.\n",
            "Epoch: 143. Train Loss: 8.259274754638671. Validation. Loss: 8.408431268310547.\n",
            "Epoch: 144. Train Loss: 8.254285053710937. Validation. Loss: 8.411648895263673.\n",
            "Epoch: 145. Train Loss: 8.254157153320312. Validation. Loss: 8.4028751953125.\n",
            "Epoch: 146. Train Loss: 8.2523914453125. Validation. Loss: 8.406855310058594.\n",
            "Epoch: 147. Train Loss: 8.247278403320312. Validation. Loss: 8.411752221679688.\n",
            "Epoch: 148. Train Loss: 8.245877786865234. Validation. Loss: 8.406635528564452.\n",
            "Epoch: 149. Train Loss: 8.245152941894531. Validation. Loss: 8.396821673583984.\n",
            "Epoch: 150. Train Loss: 8.24291759765625. Validation. Loss: 8.38638397216797.\n",
            "Epoch: 151. Train Loss: 8.240059478759765. Validation. Loss: 8.385908239746094.\n",
            "Epoch: 152. Train Loss: 8.237381881103516. Validation. Loss: 8.404954821777343.\n",
            "Epoch: 153. Train Loss: 8.237488358154296. Validation. Loss: 8.39929780883789.\n",
            "Epoch: 154. Train Loss: 8.234643725585938. Validation. Loss: 8.396558099365235.\n",
            "Epoch: 155. Train Loss: 8.23166083984375. Validation. Loss: 8.391164617919921.\n",
            "Epoch: 156. Train Loss: 8.230133026123047. Validation. Loss: 8.382262628173828.\n",
            "Epoch: 157. Train Loss: 8.229800775146485. Validation. Loss: 8.374320965576171.\n",
            "Epoch: 158. Train Loss: 8.22594146484375. Validation. Loss: 8.377894134521485.\n",
            "Epoch: 159. Train Loss: 8.222359434814454. Validation. Loss: 8.366039721679687.\n",
            "Epoch: 160. Train Loss: 8.222745501708985. Validation. Loss: 8.370968682861328.\n",
            "Epoch: 161. Train Loss: 8.220326401367187. Validation. Loss: 8.389231536865234.\n",
            "Epoch: 162. Train Loss: 8.220005194091797. Validation. Loss: 8.368282269287109.\n",
            "Epoch: 163. Train Loss: 8.219056334228515. Validation. Loss: 8.379146282958985.\n",
            "Epoch: 164. Train Loss: 8.215598306884766. Validation. Loss: 8.359697149658203.\n",
            "Epoch: 165. Train Loss: 8.21221184814453. Validation. Loss: 8.368580059814454.\n",
            "Epoch: 166. Train Loss: 8.214002901611329. Validation. Loss: 8.347348229980469.\n",
            "Epoch: 167. Train Loss: 8.21112732421875. Validation. Loss: 8.356702459716796.\n",
            "Epoch: 168. Train Loss: 8.209228907470703. Validation. Loss: 8.356556176757813.\n",
            "Epoch: 169. Train Loss: 8.207081706542969. Validation. Loss: 8.353917883300781.\n",
            "Epoch: 170. Train Loss: 8.204599898681641. Validation. Loss: 8.353373657226562.\n",
            "Epoch: 171. Train Loss: 8.204313631591797. Validation. Loss: 8.368166595458984.\n",
            "Epoch: 172. Train Loss: 8.202322026367188. Validation. Loss: 8.370696490478515.\n",
            "Epoch: 173. Train Loss: 8.200590744628906. Validation. Loss: 8.364715380859375.\n",
            "Epoch: 174. Train Loss: 8.199747121582032. Validation. Loss: 8.368037310791015.\n",
            "Epoch: 175. Train Loss: 8.200396817626952. Validation. Loss: 8.343537030029298.\n",
            "Epoch: 176. Train Loss: 8.19492135131836. Validation. Loss: 8.342087109375.\n",
            "Epoch: 177. Train Loss: 8.195728515625. Validation. Loss: 8.35081478881836.\n",
            "Epoch: 178. Train Loss: 8.193980889892579. Validation. Loss: 8.353611437988281.\n",
            "Epoch: 179. Train Loss: 8.19288062866211. Validation. Loss: 8.345502386474609.\n",
            "Epoch: 180. Train Loss: 8.188743155517578. Validation. Loss: 8.3309486328125.\n",
            "Epoch: 181. Train Loss: 8.189376529541015. Validation. Loss: 8.339550994873047.\n",
            "Epoch: 182. Train Loss: 8.185883558349609. Validation. Loss: 8.33754921875.\n",
            "Epoch: 183. Train Loss: 8.185227436523437. Validation. Loss: 8.347997680664063.\n",
            "Epoch: 184. Train Loss: 8.185611541748047. Validation. Loss: 8.337846337890625.\n",
            "Epoch: 185. Train Loss: 8.183167408447266. Validation. Loss: 8.343471203613282.\n",
            "Epoch: 186. Train Loss: 8.182423468017578. Validation. Loss: 8.340890264892579.\n",
            "Epoch: 187. Train Loss: 8.182253247070312. Validation. Loss: 8.329872662353516.\n",
            "Epoch: 188. Train Loss: 8.178738787841796. Validation. Loss: 8.335342071533203.\n",
            "Epoch: 189. Train Loss: 8.1777422265625. Validation. Loss: 8.333762921142577.\n",
            "Epoch: 190. Train Loss: 8.177253048095704. Validation. Loss: 8.32292807006836.\n",
            "Epoch: 191. Train Loss: 8.175816647949219. Validation. Loss: 8.319838226318359.\n",
            "Epoch: 192. Train Loss: 8.174536400146485. Validation. Loss: 8.323300671386718.\n",
            "Epoch: 193. Train Loss: 8.17183494506836. Validation. Loss: 8.340756970214844.\n",
            "Epoch: 194. Train Loss: 8.17079649169922. Validation. Loss: 8.328394372558593.\n",
            "Epoch: 195. Train Loss: 8.173028005371094. Validation. Loss: 8.327443713378907.\n",
            "Epoch: 196. Train Loss: 8.170095548095704. Validation. Loss: 8.331192657470703.\n",
            "Epoch: 197. Train Loss: 8.168662728271485. Validation. Loss: 8.32664970703125.\n",
            "Epoch: 198. Train Loss: 8.165431079101563. Validation. Loss: 8.326555255126953.\n",
            "Epoch: 199. Train Loss: 8.166439473876952. Validation. Loss: 8.310684008789062.\n"
          ],
          "name": "stdout"
        }
      ]
    },
    {
      "cell_type": "code",
      "metadata": {
        "colab": {
          "base_uri": "https://localhost:8080/",
          "height": 281
        },
        "id": "mxnOBpXOn8Uy",
        "outputId": "3a00f39c-a2f7-4eae-9fee-3535c4cc3bfe"
      },
      "source": [
        "plt.plot(losses)\n",
        "plt.plot(val_losses)"
      ],
      "execution_count": 127,
      "outputs": [
        {
          "output_type": "execute_result",
          "data": {
            "text/plain": [
              "[<matplotlib.lines.Line2D at 0x7fa22276b650>]"
            ]
          },
          "metadata": {
            "tags": []
          },
          "execution_count": 127
        },
        {
          "output_type": "display_data",
          "data": {
            "image/png": "[encoded data removed]",
            "text/plain": [
              "<Figure size 432x288 with 1 Axes>"
            ]
          },
          "metadata": {
            "tags": [],
            "needs_background": "light"
          }
        }
      ]
    },
    {
      "cell_type": "code",
      "metadata": {
        "colab": {
          "base_uri": "https://localhost:8080/",
          "height": 391
        },
        "id": "KrGEh-4pHP0K",
        "outputId": "67c6785e-e081-4ff4-d9ba-d10e338834f1"
      },
      "source": [
        "rim.to(device)\n",
        "rim.eval()\n",
        "\n",
        "xx = rim(X_test[2].reshape(1,1,28,28).float().to(device), Y_test[2].reshape(1,1,28,28).float().to(device)).reshape(11,28,28)\n",
        "plt.figure(figsize=(40, 5))\n",
        "for i in range(1, xx.size(0) + 1):\n",
        "\n",
        "    plt.subplot(1, xx.size(0), i)\n",
        "    plt.imshow(xx[i-1].detach().cpu().numpy())\n",
        "plt.figure()\n",
        "plt.subplot(1,2,1)\n",
        "plt.imshow(X_test[2])\n",
        "plt.subplot(1,2,2)\n",
        "plt.imshow(xx[-1].detach().cpu().numpy())\n"
      ],
      "execution_count": 13,
      "outputs": [
        {
          "output_type": "execute_result",
          "data": {
            "text/plain": [
              "<matplotlib.image.AxesImage at 0x7f0654ce4090>"
            ]
          },
          "metadata": {
            "tags": []
          },
          "execution_count": 13
        },
        {
          "output_type": "display_data",
          "data": {
            "image/png": "[encoded data removed]",
            "text/plain": [
              "<Figure size 2880x360 with 11 Axes>"
            ]
          },
          "metadata": {
            "tags": [],
            "needs_background": "light"
          }
        },
        {
          "output_type": "display_data",
          "data": {
            "image/png": "[encoded data removed]",
            "text/plain": [
              "<Figure size 432x288 with 2 Axes>"
            ]
          },
          "metadata": {
            "tags": [],
            "needs_background": "light"
          }
        }
      ]
    }
  ]
}